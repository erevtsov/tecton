{
 "cells": [
  {
   "cell_type": "code",
   "execution_count": 15,
   "metadata": {},
   "outputs": [],
   "source": [
    "import datetime as dt\n",
    "from tecton.dal.mantle import Mantle\n",
    "from tecton.dal.instrument.futures.market import Markets\n",
    "import tecton.calculator.signal.technical as tech\n",
    "\n",
    "import numpy as np\n",
    "import pandas as pd\n",
    "\n",
    "idx = pd.IndexSlice"
   ]
  },
  {
   "cell_type": "code",
   "execution_count": 16,
   "metadata": {},
   "outputs": [],
   "source": [
    "m = Mantle()\n",
    "markets = Markets.from_config()"
   ]
  },
  {
   "cell_type": "code",
   "execution_count": 17,
   "metadata": {},
   "outputs": [],
   "source": [
    "load_local = False\n",
    "ix = ['asset', 'date']\n",
    "if load_local:\n",
    "    px = pd.read_parquet('fut.parquet')\n",
    "    px = px.sort_values(ix).set_index(ix)\n",
    "else:\n",
    "    table = m.select('futures_cont', start_date=dt.date(2010, 1, 1), end_date=dt.date(2024, 12, 31))\n",
    "    px = table.to_pandas()\n",
    "    px = px.sort_values(ix).set_index(ix)\n",
    "    px.to_parquet('fut.parquet')"
   ]
  },
  {
   "cell_type": "code",
   "execution_count": 18,
   "metadata": {},
   "outputs": [],
   "source": [
    "top_liquid = px.index.get_level_values('asset').unique().tolist()\n",
    "px = px.groupby('asset').ffill()"
   ]
  },
  {
   "cell_type": "markdown",
   "metadata": {},
   "source": [
    "### Signals"
   ]
  },
  {
   "cell_type": "code",
   "execution_count": 19,
   "metadata": {},
   "outputs": [],
   "source": [
    "mac_windows = [(5, 20), (10, 50), (20, 100), (50, 200)]\n",
    "macd_windows = [(12, 26, 9), (21, 63, 15), (42, 126, 21), (63, 252, 42)]\n",
    "dc_windows = [20, 50, 100, 200]\n",
    "adx_windows = [63]\n",
    "signals = px.copy(deep=True)\n",
    "### Compute Signals Per Market\n",
    "for root in top_liquid:\n",
    "    ##### MAC #####\n",
    "    mac = px.loc[idx[root, :], :].copy()\n",
    "    signal_cols = []\n",
    "    for short_window, long_window in mac_windows:\n",
    "        col = f'signal_{short_window}_{long_window}'\n",
    "        mac.loc[:, col] = tech.ma_crossover(mac['price'].values, fast_period=short_window, slow_period=long_window,)\n",
    "        signal_cols.append(col)\n",
    "    mac.loc[:, 'signal'] = mac[signal_cols].sum(axis=1).div(len(signal_cols))\n",
    "    # set in the main df\n",
    "    signals.loc[idx[root, :], 'mac'] = mac['signal']\n",
    "\n",
    "    ##### MACD #####\n",
    "    macd = px.loc[idx[root, :], :].copy()\n",
    "    signal_cols = []\n",
    "    for short_window, long_window, signal_period in macd_windows:\n",
    "        col = f'signal_{short_window}_{long_window}_{signal_period}'\n",
    "        macd.loc[:, col] = tech.macd(macd['price'].values, fast_period=short_window, slow_period=long_window, signal_period=signal_period)\n",
    "        signal_cols.append(col)\n",
    "    macd.loc[:, 'signal'] = macd[signal_cols].sum(axis=1).div(len(signal_cols))\n",
    "    # set in the main df\n",
    "    signals.loc[idx[root, :], 'macd'] = macd['signal']\n",
    "\n",
    "    ##### DC #####\n",
    "    dc = px.loc[idx[root, :], :].copy()\n",
    "    signal_cols = []\n",
    "    for window in dc_windows:\n",
    "        col = f'signal_{window}'\n",
    "        dc.loc[:, col] = tech.donchian_channels(\n",
    "            high=dc['trading_session_high_price'].values,\n",
    "            low=dc['trading_session_low_price'].values,\n",
    "            close=dc['price'].values,\n",
    "            period=window)\n",
    "        signal_cols.append(col)\n",
    "\n",
    "    dc.loc[:, 'signal'] = dc[signal_cols].sum(axis=1).div(len(signal_cols))\n",
    "    # set in the main df\n",
    "    signals.loc[idx[root, :], 'dc'] = dc['signal']\n",
    "\n",
    "    ##### ADX #####\n",
    "    adx = px.loc[idx[root, :], :].copy()\n",
    "    signal_cols = []\n",
    "    for window in adx_windows:\n",
    "        col = f'signal_{window}'\n",
    "        adx.loc[:, col] = tech.adx(\n",
    "            high=adx['trading_session_high_price'].values,\n",
    "            low=adx['trading_session_low_price'].values,\n",
    "            close=adx['price'].values,\n",
    "            period=window)\n",
    "        signal_cols.append(col)\n",
    "\n",
    "    adx.loc[:, 'signal'] = adx[signal_cols].sum(axis=1).div(len(signal_cols))\n",
    "    # set in the main df\n",
    "    signals.loc[idx[root, :], 'adx'] = adx['signal']\n",
    "\n",
    "signals.loc[:, 'forecast'] = signals[['mac', 'macd', 'dc']].mean(axis=1) * signals['adx']"
   ]
  },
  {
   "cell_type": "code",
   "execution_count": 20,
   "metadata": {},
   "outputs": [],
   "source": [
    "signals['return'] = signals.groupby('asset')['price'].pct_change()"
   ]
  },
  {
   "cell_type": "code",
   "execution_count": 21,
   "metadata": {},
   "outputs": [],
   "source": [
    "signals['forecast_shifted'] = signals.groupby('asset')['forecast'].shift(2)"
   ]
  },
  {
   "cell_type": "code",
   "execution_count": 22,
   "metadata": {},
   "outputs": [],
   "source": [
    "mask = signals['return'].abs() > 1\n",
    "signals_clipped = signals.loc[~mask, :]"
   ]
  },
  {
   "cell_type": "code",
   "execution_count": 23,
   "metadata": {},
   "outputs": [],
   "source": [
    "signals_clipped.loc[:, 'vol'] = signals_clipped.rolling(252, center=False)['return'].std().mul(252**0.5)"
   ]
  },
  {
   "cell_type": "code",
   "execution_count": 24,
   "metadata": {},
   "outputs": [],
   "source": [
    "signals_clipped.loc[:, 'weight'] = signals_clipped['forecast_shifted'] * (1/signals_clipped['vol']) / 40\n",
    "rts = (signals_clipped.loc[:, 'weight'] * signals_clipped['return']).groupby('date').sum()"
   ]
  },
  {
   "cell_type": "code",
   "execution_count": 25,
   "metadata": {},
   "outputs": [
    {
     "data": {
      "text/plain": [
       "<Axes: xlabel='date'>"
      ]
     },
     "execution_count": 25,
     "metadata": {},
     "output_type": "execute_result"
    },
    {
     "data": {
      "image/png": "[encoded data removed]",
      "text/plain": [
       "<Figure size 640x480 with 1 Axes>"
      ]
     },
     "metadata": {},
     "output_type": "display_data"
    }
   ],
   "source": [
    "signals_clipped.assign(gross_wt=signals_clipped['weight'].abs()).groupby('date')['gross_wt'].sum().plot()"
   ]
  },
  {
   "cell_type": "code",
   "execution_count": 26,
   "metadata": {},
   "outputs": [
    {
     "data": {
      "text/plain": [
       "<Axes: xlabel='date'>"
      ]
     },
     "execution_count": 26,
     "metadata": {},
     "output_type": "execute_result"
    },
    {
     "data": {
      "image/png": "[encoded data removed]",
      "text/plain": [
       "<Figure size 640x480 with 1 Axes>"
      ]
     },
     "metadata": {},
     "output_type": "display_data"
    }
   ],
   "source": [
    "rts.add(1).cumprod().plot()"
   ]
  },
  {
   "cell_type": "code",
   "execution_count": 27,
   "metadata": {},
   "outputs": [
    {
     "data": {
      "text/plain": [
       "<Axes: xlabel='date'>"
      ]
     },
     "execution_count": 27,
     "metadata": {},
     "output_type": "execute_result"
    },
    {
     "data": {
      "image/png": "[encoded data removed]",
      "text/plain": [
       "<Figure size 640x480 with 1 Axes>"
      ]
     },
     "metadata": {},
     "output_type": "display_data"
    }
   ],
   "source": [
    "rts.rolling(252).std().mul(252**(1/2)).plot()"
   ]
  },
  {
   "cell_type": "code",
   "execution_count": 28,
   "metadata": {},
   "outputs": [
    {
     "ename": "SyntaxError",
     "evalue": "invalid syntax (146514945.py, line 1)",
     "output_type": "error",
     "traceback": [
      "\u001b[0;36m  Cell \u001b[0;32mIn[28], line 1\u001b[0;36m\u001b[0m\n\u001b[0;31m    ````\u001b[0m\n\u001b[0m    ^\u001b[0m\n\u001b[0;31mSyntaxError\u001b[0m\u001b[0;31m:\u001b[0m invalid syntax\n"
     ]
    }
   ],
   "source": [
    "````"
   ]
  },
  {
   "cell_type": "code",
   "execution_count": null,
   "metadata": {},
   "outputs": [
    {
     "data": {
      "text/html": [
       "<div>\n",
       "<style scoped>\n",
       "    .dataframe tbody tr th:only-of-type {\n",
       "        vertical-align: middle;\n",
       "    }\n",
       "\n",
       "    .dataframe tbody tr th {\n",
       "        vertical-align: top;\n",
       "    }\n",
       "\n",
       "    .dataframe thead th {\n",
       "        text-align: right;\n",
       "    }\n",
       "</style>\n",
       "<table border=\"1\" class=\"dataframe\">\n",
       "  <thead>\n",
       "    <tr style=\"text-align: right;\">\n",
       "      <th></th>\n",
       "      <th></th>\n",
       "      <th>symbol</th>\n",
       "      <th>price</th>\n",
       "      <th>open_interest</th>\n",
       "      <th>cleared_volume</th>\n",
       "      <th>opening_price</th>\n",
       "      <th>trading_session_low_price</th>\n",
       "      <th>trading_session_high_price</th>\n",
       "      <th>lowest_offer</th>\n",
       "      <th>highest_bid</th>\n",
       "      <th>mac</th>\n",
       "      <th>macd</th>\n",
       "      <th>dc</th>\n",
       "      <th>adx</th>\n",
       "      <th>forecast</th>\n",
       "      <th>return</th>\n",
       "      <th>forecast_shifted</th>\n",
       "    </tr>\n",
       "    <tr>\n",
       "      <th>asset</th>\n",
       "      <th>date</th>\n",
       "      <th></th>\n",
       "      <th></th>\n",
       "      <th></th>\n",
       "      <th></th>\n",
       "      <th></th>\n",
       "      <th></th>\n",
       "      <th></th>\n",
       "      <th></th>\n",
       "      <th></th>\n",
       "      <th></th>\n",
       "      <th></th>\n",
       "      <th></th>\n",
       "      <th></th>\n",
       "      <th></th>\n",
       "      <th></th>\n",
       "      <th></th>\n",
       "    </tr>\n",
       "  </thead>\n",
       "  <tbody>\n",
       "  </tbody>\n",
       "</table>\n",
       "</div>"
      ],
      "text/plain": [
       "Empty DataFrame\n",
       "Columns: [symbol, price, open_interest, cleared_volume, opening_price, trading_session_low_price, trading_session_high_price, lowest_offer, highest_bid, mac, macd, dc, adx, forecast, return, forecast_shifted]\n",
       "Index: []"
      ]
     },
     "execution_count": 15,
     "metadata": {},
     "output_type": "execute_result"
    }
   ],
   "source": [
    "signals[mask]"
   ]
  },
  {
   "cell_type": "code",
   "execution_count": null,
   "metadata": {},
   "outputs": [],
   "source": [
    "````"
   ]
  },
  {
   "cell_type": "code",
   "execution_count": null,
   "metadata": {},
   "outputs": [],
   "source": [
    "root = 'PA'\n",
    "sd = dt.datetime(2020, 5, 10)\n",
    "ed = dt.datetime(2020, 5, 16)"
   ]
  },
  {
   "cell_type": "code",
   "execution_count": null,
   "metadata": {},
   "outputs": [],
   "source": [
    "signals.loc[idx[root, sd:ed], :]"
   ]
  },
  {
   "cell_type": "markdown",
   "metadata": {},
   "source": [
    "MA, MACD, BBANDS\n",
    "\n",
    "multiplier: ADX"
   ]
  },
  {
   "cell_type": "markdown",
   "metadata": {},
   "source": [
    "### MA Crossover"
   ]
  },
  {
   "cell_type": "code",
   "execution_count": null,
   "metadata": {},
   "outputs": [],
   "source": [
    "mac = px[['price']].copy()\n",
    "\n",
    "windows = [(5, 20), (10, 50), (20, 100), (50, 200)]\n",
    "# windows = [(20, 100)]\n",
    "signal_cols = []\n",
    "for short_window, long_window in windows:\n",
    "    col = f'signal_{short_window}_{long_window}'\n",
    "    mac.loc[:, col] = tech.ma_crossover(px['price'].values, fast_period=short_window, slow_period=long_window,)\n",
    "    signal_cols.append(col)\n",
    "\n",
    "mac.loc[:, 'signal'] = mac[signal_cols].sum(axis=1).div(len(signal_cols))\n",
    "#\n",
    "ax = mac['price'].plot(label='Price', figsize=(14, 7))\n",
    "mac['signal'].plot(ax=ax, secondary_y=True, label='Signal', color='orange')\n",
    "ax.set_ylabel('Price')\n",
    "ax.right_ax.set_ylabel('Signal')\n",
    "ax.legend(loc='upper left')\n",
    "ax.right_ax.legend(loc='upper right')"
   ]
  },
  {
   "cell_type": "markdown",
   "metadata": {},
   "source": [
    "### MACD"
   ]
  },
  {
   "cell_type": "code",
   "execution_count": null,
   "metadata": {},
   "outputs": [],
   "source": [
    "macd = px[['price']].copy()\n",
    "\n",
    "windows = [(12, 26, 9), (21, 63, 15), (42, 126, 21), (63, 252, 42)]\n",
    "signal_cols = []\n",
    "for short_window, long_window, signal_period in windows:\n",
    "    col = f'signal_{short_window}_{long_window}_{signal_period}'\n",
    "    macd.loc[:, col] = tech.macd(macd['price'].values, fast_period=short_window, slow_period=long_window, signal_period=signal_period)\n",
    "    signal_cols.append(col)\n",
    "\n",
    "macd.loc[:, 'signal'] = macd[signal_cols].sum(axis=1).div(len(signal_cols))\n",
    "\n",
    "ax = macd['price'].plot(label='Price', figsize=(14, 7))\n",
    "macd[['signal']].plot(ax=ax, secondary_y=True, label=['MACD', 'Signal'], color=['orange', 'purple'])\n",
    "ax.set_ylabel('Price')\n",
    "ax.right_ax.set_ylabel('MACD')\n",
    "ax.legend(loc='upper left')\n",
    "ax.right_ax.legend(loc='upper right')"
   ]
  },
  {
   "cell_type": "markdown",
   "metadata": {},
   "source": [
    "### Donchian Channels"
   ]
  },
  {
   "cell_type": "code",
   "execution_count": null,
   "metadata": {},
   "outputs": [],
   "source": [
    "dc = px[['price', 'trading_session_low_price', 'trading_session_high_price']].copy()\n",
    "\n",
    "windows = [20, 50, 100, 200]\n",
    "signal_cols = []\n",
    "for window in windows:\n",
    "    col = f'signal_{window}'\n",
    "    dc.loc[:, col] = tech.donchian_channels(\n",
    "        high=dc['trading_session_high_price'].values,\n",
    "        low=dc['trading_session_low_price'].values,\n",
    "        close=dc['price'].values,\n",
    "        period=window)\n",
    "    signal_cols.append(col)\n",
    "\n",
    "dc.loc[:, 'signal'] = dc[signal_cols].sum(axis=1).div(len(signal_cols))\n",
    "ax = dc['price'].plot(label='Price', figsize=(14, 7))\n",
    "dc['signal'].plot(ax=ax, secondary_y=True, label='Signal', color='orange')\n",
    "ax.set_ylabel('Price')\n",
    "ax.right_ax.set_ylabel('Signal')\n",
    "ax.legend(loc='upper left')\n",
    "ax.right_ax.legend(loc='upper right')"
   ]
  },
  {
   "cell_type": "code",
   "execution_count": null,
   "metadata": {},
   "outputs": [],
   "source": [
    "adx = px[['price', 'trading_session_low_price', 'trading_session_high_price']].ffill().copy()\n",
    "\n",
    "windows = [63]\n",
    "signal_cols = []\n",
    "for window in windows:\n",
    "    col = f'signal_{window}'\n",
    "    adx.loc[:, col] = tech.adx(\n",
    "        high=adx['trading_session_high_price'].values,\n",
    "        low=adx['trading_session_low_price'].values,\n",
    "        close=adx['price'].values,\n",
    "        period=window)\n",
    "    signal_cols.append(col)\n",
    "\n",
    "adx.loc[:, 'signal'] = adx[signal_cols].sum(axis=1).div(len(signal_cols))\n",
    "ax = adx['price'].plot(label='Price', figsize=(14, 7))\n",
    "adx['signal'].plot(ax=ax, secondary_y=True, label='Signal', color='orange')\n",
    "ax.set_ylabel('Price')\n",
    "ax.right_ax.set_ylabel('Signal')\n",
    "ax.legend(loc='upper left')\n",
    "ax.right_ax.legend(loc='upper right')"
   ]
  },
  {
   "cell_type": "code",
   "execution_count": null,
   "metadata": {},
   "outputs": [],
   "source": [
    "signal = px[['price']].copy()\n",
    "signal.loc[:, 'mac'] = mac['signal']\n",
    "signal.loc[:, 'macd'] = macd['signal']\n",
    "signal.loc[:, 'dc'] = dc['signal']\n",
    "signal.loc[:, 'adx'] = adx['signal']\n",
    "signal.loc[:, 'signal'] = signal[['mac', 'macd', 'dc']].mean(axis=1) * signal['adx']\n",
    "\n",
    "ax = signal['price'].plot(label='Price', figsize=(14, 7))\n",
    "signal['signal'].plot(ax=ax, secondary_y=True, label='Signal', color='orange')\n",
    "ax.set_ylabel('Price')\n",
    "ax.right_ax.set_ylabel('Signal')\n",
    "ax.legend(loc='upper left')\n",
    "ax.right_ax.legend(loc='upper right')"
   ]
  },
  {
   "cell_type": "code",
   "execution_count": null,
   "metadata": {},
   "outputs": [],
   "source": []
  }
 ],
 "metadata": {
  "kernelspec": {
   "display_name": ".venv",
   "language": "python",
   "name": "python3"
  },
  "language_info": {
   "codemirror_mode": {
    "name": "ipython",
    "version": 3
   },
   "file_extension": ".py",
   "mimetype": "text/x-python",
   "name": "python",
   "nbconvert_exporter": "python",
   "pygments_lexer": "ipython3",
   "version": "3.13.2"
  }
 },
 "nbformat": 4,
 "nbformat_minor": 2
}
